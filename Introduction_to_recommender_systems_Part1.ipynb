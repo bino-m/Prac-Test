{
  "nbformat": 4,
  "nbformat_minor": 0,
  "metadata": {
    "kernelspec": {
      "display_name": "Python 3",
      "language": "python",
      "name": "python3"
    },
    "language_info": {
      "codemirror_mode": {
        "name": "ipython",
        "version": 3
      },
      "file_extension": ".py",
      "mimetype": "text/x-python",
      "name": "python",
      "nbconvert_exporter": "python",
      "pygments_lexer": "ipython3",
      "version": "3.7.4"
    },
    "colab": {
      "name": "Introduction_to_recommender_systems_Part1.ipynb",
      "provenance": [],
      "include_colab_link": true
    }
  },
  "cells": [
    {
      "cell_type": "markdown",
      "metadata": {
        "id": "view-in-github",
        "colab_type": "text"
      },
      "source": [
        "<a href=\"https://colab.research.google.com/github/bino-m/Prac-Test/blob/main/Introduction_to_recommender_systems_Part1.ipynb\" target=\"_parent\"><img src=\"https://colab.research.google.com/assets/colab-badge.svg\" alt=\"Open In Colab\"/></a>"
      ]
    },
    {
      "cell_type": "markdown",
      "metadata": {
        "id": "bLMD5ZZzrBDV"
      },
      "source": [
        "# Introduction to Recommender Systems: Part 1\n",
        "© Explore Data Science Academy"
      ]
    },
    {
      "cell_type": "markdown",
      "metadata": {
        "id": "jpWIiCDHrBDi"
      },
      "source": [
        "## Learning Objectives\n",
        "\n",
        "In this train you learn how to:\n",
        "- Understand the purpose and basic operation of a recommender system;\n",
        "- Understand the role of similarity metrics utilised in recommender algorithms;\n",
        "- Assess the performance of a recommender system;\n",
        "- Gain an intuition for the basic operation of content-based filtering; and \n",
        "- Implement a simple content-based filtering algorithm.\n",
        "\n",
        "## Outline\n",
        "\n",
        "This train is structured as follows:\n",
        "- The importance of making recommendations;\n",
        "- Measuring similarity; \n",
        "- Assessing the performance of a recommender system; \n",
        "- Intuition behind content-based filtering; and \n",
        "- Implementation of content-based filtering"
      ]
    },
    {
      "cell_type": "markdown",
      "metadata": {
        "id": "9gR2Wi9TrBDp"
      },
      "source": [
        "## The Importance of Making Recommendations\n",
        "\n",
        "<br></br>\n",
        "\n",
        "<div align=\"center\" style=\"width: 600px; font-size: 80%; text-align: center; margin: 0 auto\">\n",
        "<img src=\"https://raw.githubusercontent.com/Explore-AI/Pictures/master/Long_tail_problem.jpg\"\n",
        "     alt=\"The Long Tail Problem\"\n",
        "     style=\"float: center; padding-bottom=0.5em\"\n",
        "     width=600px/>\n",
        "The Long tail problem often experienced by content distributors. \n",
        "</div>\n",
        "\n",
        "\n",
        "We exist in a technological era where there is far too much content (movies, news articles, shopping products, websites, etc.) for individual items to each receive our personal consideration. For example, consider that the average Google search returns well over 1 million results, yet when last did you look at the websites past the [first page](https://backlinko.com/google-ctr-stats)?  This fact is often illustrated by what is known as the \"long tail problem\" (represented in the figure above), where tracking user engagement with items in a large content repository sees a small number of these items receiving a disproportionate amount of attention, while the majority of items are unexplored. The truth is that a user simply doesn't know of each item which exists, nor has the time to inspect each item even if it were known. \n",
        "\n",
        "In light of the above challenge, a natural question for service providers becomes: \"how do I ensure that an individual is shown a manageable portion of the total content I have available, while also ensuring that this content is relevant to and desired by them?\" It turns out that this is actually an extremely valuable question, both economically and within society as a whole. Luckily for us, decades of hard work by very intelligent individuals has largely answered this question through a collection of algorithms and computing techniques known as recommender systems. \n",
        "\n",
        "\n",
        "Simply put, a recommender system functions by predicting a user's rating or preference for an item. This allows a service provider to build up a catalog of items which it believes the user will want to examine - thereby increasing their engagement with the service and allowing a wider array of content to be considered.\n",
        "\n",
        "\n",
        "Within this train, we will review some of the fundamental concepts upon which recommender systems operate. We will also learn how to create a simple implementation of one of the two dominant methods currently studied in relation to recommender systems, referred to as content-based filtering. \n",
        "\n",
        "This is going to be a lot to learn, so let's dive in!  "
      ]
    },
    {
      "cell_type": "markdown",
      "metadata": {
        "id": "sVLRdPC7rBDv"
      },
      "source": [
        "### Terminology: Users, Items, and Ratings  \n",
        "\n",
        "The first thing we need to do when speaking about recommender systems is to get some terminology straight. Within a recommender system, there are two primary sets of entities: the Users and the Items. \n",
        "\n",
        "As we'd expect, **an item is a thing which is consumed**. It can be watched, read, bought, clicked-on, or considered. Items are passive; meaning that their properties or nature does not change. \n",
        "\n",
        "**Users are individuals who interact with the items in a recommendation system**. Through their *actions*, **users create ratings for specific items within a recommendation system**. Ratings can be either *explicit* (such as giving your favorite movie 5/5 stars on review) or *implicit* (such as watching a movie; even though you haven't rated it directly, by viewing something you indicate that you have some interest in it). Within this train, we only consider explicit ratings, but many of the principles covered here will apply to implicit ratings as well.  \n",
        "\n",
        "A given user can have ratings for many items in the system, or none at all. Generally, as a user continues to interact with a recommender system, the more it will be able to capture her preferences and ratings for items. "
      ]
    },
    {
      "cell_type": "markdown",
      "metadata": {
        "id": "xIZrLeRerBDy"
      },
      "source": [
        "## Measuring Similarity \n",
        "\n",
        "<br></br>\n",
        "\n",
        "<div align=\"center\" style=\"width: 600px; font-size: 80%; text-align: center; margin: 0 auto\">\n",
        "<img src=\"https://raw.githubusercontent.com/Explore-AI/Pictures/master/Cosine_similarity.jpg\"\n",
        "     alt=\"Cosine Similarity \"\n",
        "     style=\"float: center; padding-bottom=0.5em\"\n",
        "     width=600px/>\n",
        "Measuring the similarity between the ratings of two users (A) and (B) for the books 'Harry Potter and the Philosopher's Stone' and 'The Diary of a Young Girl', using the Cosine similarity metric.  \n",
        "</div>\n",
        "\n",
        "\n",
        "Having learnt about the entities which exist within recommender systems, we may wonder how they function. While this is something that we'll learn throughout this entire train, one fundamental principal that we need to understand is that recommender systems are built up by utilising the _relations_ which  exist between items and users. As such, these systems always need a mechanism to measure how related or _similar_ a user is to another user, or an item is to another item. \n",
        "\n",
        "We accomplish this measurement of similarity through, you guessed it, a _similarity metric_.  \n",
        "\n",
        "Generally speaking, a similarity metric can be thought of as being the inverse of a distance measure: if two things are considered to be very similar they should be assigned a high similarity value (close to 1), while dissimilar items should receive a low similarity value (close to zero). Other [important properties](https://online.stat.psu.edu/stat508/lesson/1b/1b.2/1b.2.1) include:\n",
        " - (Symmetry) $Sim(A,B) = Sim(B,A)$ \n",
        " - (Identity) $Sim(A,A) = 1$\n",
        " - (Uniqueness) $Sim(A,B) = 1 \\leftrightarrow A = B$\n",
        " \n",
        "While there are many similarity metrics to choose from when building a recommender system (and more than one can certainly be used simultaneously), a popular choice is the **Cosine similarity**. We won't go into the fundamental trig here (we hope that you remember this from high school), but recall that as an angle becomes smaller (approaching $0^o$) the value of its cosine increases. Conversely, as the angle increases the cosine value decreases. It turns out that this behavior makes the cosine of the angle between two p-dimensional vectors desirable as a [similarity metric](https://en.wikipedia.org/wiki/Cosine_similarity) which can easily be computed.\n",
        "\n",
        "Using the figure above to help guide our understanding, the Cosine similarity between two p-dimensional vectors ${A}$ and $B$ can be given as:\n",
        "\n",
        "$$ \\begin{align}\n",
        "Sim(A,B)  &= \\frac{A \\cdot B}{||A|| \\times ||B||} \\\\ \\\\\n",
        "& = \\frac{\\sum_{i=1}^{p}A_{i}B_{i}}{\\sqrt{{\\sum_{i=1}^{p}A_{i}^2}} \\sqrt{\\sum_{i=1}^{p}B_{i}^2}}, \\\\\n",
        "\\end{align} $$ \n",
        "  \n",
        "\n",
        "To make things a little more concrete, let's work out the cosine similarity using our provided example above. Here, each vector represents the ratings given by one of two *users*, $A$ and $B$, who have each rated two books (rating#1 $ \\rightarrow r_1$, and rating#2 $ \\rightarrow r_2$). To work out how similar these two users are based on their supplied ratings, we can use the Cosine similarity definition as follows:   \n",
        "\n",
        "\n",
        "$$ \\begin{align}\n",
        "Sim(A,B)  & = \\frac{(A_{r1} \\times B_{r1})+(A_{r2} \\times B_{r2})}{\\sqrt{A_{r1}^2 + A_{r2}^2} \\times \\sqrt{B_{r1}^2 + B_{r2}^2}} \\\\ \\\\\n",
        "& = \\frac{(3 \\times 5) + (4 \\times 2)}{\\sqrt{9 + 16} \\times \\sqrt{25 + 4}} \\\\ \\\\\n",
        "& = \\frac{23}{26.93} \\\\ \\\\\n",
        "& = 0.854\n",
        "\\end{align} $$\n",
        "\n",
        "It would be a pain to work this out manually each time! Thankfully, we can obtain this same result using the `cosine_similarity` function provided to us in `sklearn`. \n",
        "\n",
        "As usual before we can go ahead and use this function we need to import the libraries that we will need.  "
      ]
    },
    {
      "cell_type": "code",
      "metadata": {
        "id": "t5LiLngVrBD8"
      },
      "source": [
        "# Import our regular old heroes \n",
        "import numpy as np\n",
        "import pandas as pd\n",
        "import scipy as sp # <-- The sister of Numpy, used in our code for numerical efficientcy. \n",
        "import matplotlib.pyplot as plt\n",
        "import seaborn as sns\n",
        "\n",
        "# Entity featurization and similarity computation\n",
        "from sklearn.metrics.pairwise import cosine_similarity \n",
        "from sklearn.feature_extraction.text import TfidfVectorizer\n",
        "\n",
        "# Libraries used during sorting procedures.\n",
        "import operator # <-- Convienient item retrieval during iteration \n",
        "import heapq # <-- Efficient sorting of large lists\n",
        "\n",
        "# Imported for our sanity\n",
        "import warnings\n",
        "warnings.filterwarnings('ignore')"
      ],
      "execution_count": 1,
      "outputs": []
    },
    {
      "cell_type": "code",
      "metadata": {
        "id": "4EhEuXx0rBEA",
        "outputId": "d4f1dcf3-1e81-4700-f47e-525cfd82ade5",
        "colab": {
          "base_uri": "https://localhost:8080/"
        }
      },
      "source": [
        "A = np.array([[3,4]]) # <-- Rating vector A\n",
        "B = np.array([[5,2]]) # <-- Rating vector B\n",
        "cosine_similarity(A,B) # Sim(A,B)"
      ],
      "execution_count": 2,
      "outputs": [
        {
          "output_type": "execute_result",
          "data": {
            "text/plain": [
              "array([[0.85419856]])"
            ]
          },
          "metadata": {
            "tags": []
          },
          "execution_count": 2
        }
      ]
    },
    {
      "cell_type": "markdown",
      "metadata": {
        "id": "-iqVr2yQrBEM"
      },
      "source": [
        "With an understanding of similarity out of the way, let's look at one more important concept before creating our own simple recommender systems - performance measurement!"
      ]
    },
    {
      "cell_type": "markdown",
      "metadata": {
        "id": "gNFwUEJrrBER"
      },
      "source": [
        "## Assessing the Performance of a Recommender System\n",
        "\n",
        "One more thing we need to consider before we dive into the inner workings of recommender system algorithms is the aspect of how to evaluate their performance. After all, how can you tell if a recommendation is good if the item being suggested is something you've never seen before? \n",
        "\n",
        "One straightforward approach is to use a statistical method such as [A/B testing](https://en.wikipedia.org/wiki/A/B_testing), where two very similar users are shown different recommendations; with user `A` being shown randomly selected items from our catalog, and user `B` being shown recommendations generated by our algorithm. Unfortunately, like other areas of machine learning, this strategy may be a bit too risky/expensive to let a poor recommendation system (or random recommendations!) be exposed to users. Instead, in a similar approach to other machine learning fields, we tend to make use of historical rating data collected from users to test our systems. Here, as we have seen before, we partition our historical rating data into train and test splits; using train data to help build and tune our recommendation algorithms, while test data are withheld in order to perform assessment.  \n",
        "\n",
        "In this sense, there are two main variants of metrics which we use to evaluate the predictions made by a recommender system: \n",
        "\n",
        "#### Objective Measures\n",
        "\n",
        "Objective performance measures for a recommendation system provide results which do not depend upon personal interpretation in order to assign success. These measures tend to focus around actual preference/ratings given by users to items, and are compared against ratings/preference predicted by an algorithm. Common examples of objective measures include: \n",
        "\n",
        "   - **Single-value metrics:** These are quantities which we've seen before such as RMSE and MAE which measure the error between a known and predicted rating on a continuous scale. \n",
        "    \n",
        "    \n",
        "   - **Catalog-based metrics:** These are measures of performance computed over lists of recommended items generated for a user. They mainly consist of variations surrounding what is known as the *hit-rate*, which determines the number of highly-rated items appearing in a recommendation list which the user has actually given a high rating to.    \n",
        "   \n",
        " \n",
        " - **Coverage:** This metric is calculated across multiple user recommendation lists, and returns the number of users who received at least one high-rated recommendation in their list. \n",
        " \n",
        "#### Subjective Measures\n",
        "\n",
        "As a natural contrast to objective performance measures, subjective metrics provide quantitative values which must be interpreted in order to determine success. These measures typically capture characteristics of recommendations which are not directly related to rating data, but which nonetheless may be very important when a user decides whether or not to follow a suggestion. Two popular measures are:   \n",
        " \n",
        " - **Novelty:** This is a measure of how many under-rated items (not to be confused with poorly-rated ones) are suggested to a user. Exposing individuals to lesser-known items in a catalog is, as we have already discussed, vital to a recommender system's functioning. \n",
        " \n",
        " \n",
        " - **Diversity:** This measurement evaluates the number of different item categories present in a recommendation list given to a user. \n",
        " \n",
        " \n",
        "We're done with the background theory for now, let's go and build something!"
      ]
    },
    {
      "cell_type": "markdown",
      "metadata": {
        "id": "Mo6Paas5rBEX"
      },
      "source": [
        "## Use Case: Producing Book Recommendations \n",
        "\n",
        "To ground our learning in a practical problem, we'll be using the [Goodbooks-10k dataset](http://fastml.com/goodbooks-10k-a-new-dataset-for-book-recommendations/) within this train. \n",
        "\n",
        "[Goodbooks](https://www.goodbooks.io/) is an online book recommendation service which pairs readers up with their next favorite read. The dataset we're using contains information on 10'000 books from the service's catalog, along with ~80'000 reviews generated by site-goers. We'll use this rich information to try our own hand at making recommendations on what good books you (or your friends/family) should read next.\n",
        "\n",
        "\n",
        "### Dataset Overview: Brief EDA\n",
        "\n",
        "We'll be making use of two main files derived from the dataset$^*$;\n",
        " \n",
        " - **Books_with_tags.csv**: This is a file that we've created for the convenience of this train. It contains book_id, title, author, date, etc. data from the original `books.csv` file, along with user tags merged from the `book_tags.csv` and `tags.csv` files. \n",
        " \n",
        " \n",
        " - **Book_ratings.csv**: This is a subset of the `ratings.csv` file, with a field for the title of the books added for convenience. This file contains the important mapping between users and item ratings.\n",
        " \n",
        "$^*$_Full dataset can be found [here](https://www.kaggle.com/zygmunt/goodbooks-10k)_"
      ]
    },
    {
      "cell_type": "code",
      "metadata": {
        "id": "GGsODNEirBEa",
        "outputId": "4edb4d6c-bfc7-4758-fc9f-cddde6a5dc2f",
        "colab": {
          "base_uri": "https://localhost:8080/",
          "height": 434
        }
      },
      "source": [
        "books = pd.read_csv('https://raw.githubusercontent.com/Explore-AI/Public-Data/master/Data/unsupervised_sprint/books_with_tags.csv')\n",
        "books.head(3)"
      ],
      "execution_count": 3,
      "outputs": [
        {
          "output_type": "execute_result",
          "data": {
            "text/html": [
              "<div>\n",
              "<style scoped>\n",
              "    .dataframe tbody tr th:only-of-type {\n",
              "        vertical-align: middle;\n",
              "    }\n",
              "\n",
              "    .dataframe tbody tr th {\n",
              "        vertical-align: top;\n",
              "    }\n",
              "\n",
              "    .dataframe thead th {\n",
              "        text-align: right;\n",
              "    }\n",
              "</style>\n",
              "<table border=\"1\" class=\"dataframe\">\n",
              "  <thead>\n",
              "    <tr style=\"text-align: right;\">\n",
              "      <th></th>\n",
              "      <th>id</th>\n",
              "      <th>book_id</th>\n",
              "      <th>best_book_id</th>\n",
              "      <th>work_id</th>\n",
              "      <th>books_count</th>\n",
              "      <th>isbn</th>\n",
              "      <th>isbn13</th>\n",
              "      <th>authors</th>\n",
              "      <th>original_publication_year</th>\n",
              "      <th>original_title</th>\n",
              "      <th>title</th>\n",
              "      <th>language_code</th>\n",
              "      <th>average_rating</th>\n",
              "      <th>ratings_count</th>\n",
              "      <th>work_ratings_count</th>\n",
              "      <th>work_text_reviews_count</th>\n",
              "      <th>ratings_1</th>\n",
              "      <th>ratings_2</th>\n",
              "      <th>ratings_3</th>\n",
              "      <th>ratings_4</th>\n",
              "      <th>ratings_5</th>\n",
              "      <th>image_url</th>\n",
              "      <th>small_image_url</th>\n",
              "      <th>tag_name</th>\n",
              "    </tr>\n",
              "  </thead>\n",
              "  <tbody>\n",
              "    <tr>\n",
              "      <th>0</th>\n",
              "      <td>1</td>\n",
              "      <td>2767052</td>\n",
              "      <td>2767052</td>\n",
              "      <td>2792775</td>\n",
              "      <td>272</td>\n",
              "      <td>439023483</td>\n",
              "      <td>9.780439e+12</td>\n",
              "      <td>Suzanne Collins</td>\n",
              "      <td>2008.0</td>\n",
              "      <td>The Hunger Games</td>\n",
              "      <td>The Hunger Games (The Hunger Games, #1)</td>\n",
              "      <td>eng</td>\n",
              "      <td>4.34</td>\n",
              "      <td>4780653</td>\n",
              "      <td>4942365</td>\n",
              "      <td>155254</td>\n",
              "      <td>66715</td>\n",
              "      <td>127936</td>\n",
              "      <td>560092</td>\n",
              "      <td>1481305</td>\n",
              "      <td>2706317</td>\n",
              "      <td>https://images.gr-assets.com/books/1447303603m...</td>\n",
              "      <td>https://images.gr-assets.com/books/1447303603s...</td>\n",
              "      <td>to-read fantasy favorites currently-reading yo...</td>\n",
              "    </tr>\n",
              "    <tr>\n",
              "      <th>1</th>\n",
              "      <td>2</td>\n",
              "      <td>3</td>\n",
              "      <td>3</td>\n",
              "      <td>4640799</td>\n",
              "      <td>491</td>\n",
              "      <td>439554934</td>\n",
              "      <td>9.780440e+12</td>\n",
              "      <td>J.K. Rowling, Mary GrandPrÃ©</td>\n",
              "      <td>1997.0</td>\n",
              "      <td>Harry Potter and the Philosopher's Stone</td>\n",
              "      <td>Harry Potter and the Sorcerer's Stone (Harry P...</td>\n",
              "      <td>eng</td>\n",
              "      <td>4.44</td>\n",
              "      <td>4602479</td>\n",
              "      <td>4800065</td>\n",
              "      <td>75867</td>\n",
              "      <td>75504</td>\n",
              "      <td>101676</td>\n",
              "      <td>455024</td>\n",
              "      <td>1156318</td>\n",
              "      <td>3011543</td>\n",
              "      <td>https://images.gr-assets.com/books/1474154022m...</td>\n",
              "      <td>https://images.gr-assets.com/books/1474154022s...</td>\n",
              "      <td>to-read fantasy favorites currently-reading yo...</td>\n",
              "    </tr>\n",
              "    <tr>\n",
              "      <th>2</th>\n",
              "      <td>3</td>\n",
              "      <td>41865</td>\n",
              "      <td>41865</td>\n",
              "      <td>3212258</td>\n",
              "      <td>226</td>\n",
              "      <td>316015849</td>\n",
              "      <td>9.780316e+12</td>\n",
              "      <td>Stephenie Meyer</td>\n",
              "      <td>2005.0</td>\n",
              "      <td>Twilight</td>\n",
              "      <td>Twilight (Twilight, #1)</td>\n",
              "      <td>en-US</td>\n",
              "      <td>3.57</td>\n",
              "      <td>3866839</td>\n",
              "      <td>3916824</td>\n",
              "      <td>95009</td>\n",
              "      <td>456191</td>\n",
              "      <td>436802</td>\n",
              "      <td>793319</td>\n",
              "      <td>875073</td>\n",
              "      <td>1355439</td>\n",
              "      <td>https://images.gr-assets.com/books/1361039443m...</td>\n",
              "      <td>https://images.gr-assets.com/books/1361039443s...</td>\n",
              "      <td>to-read fantasy favorites currently-reading yo...</td>\n",
              "    </tr>\n",
              "  </tbody>\n",
              "</table>\n",
              "</div>"
            ],
            "text/plain": [
              "   id  ...                                           tag_name\n",
              "0   1  ...  to-read fantasy favorites currently-reading yo...\n",
              "1   2  ...  to-read fantasy favorites currently-reading yo...\n",
              "2   3  ...  to-read fantasy favorites currently-reading yo...\n",
              "\n",
              "[3 rows x 24 columns]"
            ]
          },
          "metadata": {
            "tags": []
          },
          "execution_count": 3
        }
      ]
    },
    {
      "cell_type": "code",
      "metadata": {
        "id": "jGrDYRqMrBEc",
        "outputId": "c5b6f960-2d4f-415f-da0e-c0058c93e59d",
        "colab": {
          "base_uri": "https://localhost:8080/"
        }
      },
      "source": [
        "print (f'Number of books in dataset: {books.shape[0]}')"
      ],
      "execution_count": 5,
      "outputs": [
        {
          "output_type": "stream",
          "text": [
            "Number of books in dataset: 10000\n"
          ],
          "name": "stdout"
        }
      ]
    },
    {
      "cell_type": "code",
      "metadata": {
        "id": "3OJaIo0PrBEe",
        "outputId": "978a4f0b-5b94-42a2-dabb-411826d59edc",
        "colab": {
          "base_uri": "https://localhost:8080/",
          "height": 204
        }
      },
      "source": [
        "book_ratings = pd.read_csv('https://raw.githubusercontent.com/Explore-AI/Public-Data/master/Data/unsupervised_sprint/book_ratings.csv')\n",
        "book_ratings.head()"
      ],
      "execution_count": 6,
      "outputs": [
        {
          "output_type": "execute_result",
          "data": {
            "text/html": [
              "<div>\n",
              "<style scoped>\n",
              "    .dataframe tbody tr th:only-of-type {\n",
              "        vertical-align: middle;\n",
              "    }\n",
              "\n",
              "    .dataframe tbody tr th {\n",
              "        vertical-align: top;\n",
              "    }\n",
              "\n",
              "    .dataframe thead th {\n",
              "        text-align: right;\n",
              "    }\n",
              "</style>\n",
              "<table border=\"1\" class=\"dataframe\">\n",
              "  <thead>\n",
              "    <tr style=\"text-align: right;\">\n",
              "      <th></th>\n",
              "      <th>user_id</th>\n",
              "      <th>book_id</th>\n",
              "      <th>title</th>\n",
              "      <th>rating</th>\n",
              "    </tr>\n",
              "  </thead>\n",
              "  <tbody>\n",
              "    <tr>\n",
              "      <th>0</th>\n",
              "      <td>314</td>\n",
              "      <td>1</td>\n",
              "      <td>Harry Potter and the Half-Blood Prince (Harry ...</td>\n",
              "      <td>5</td>\n",
              "    </tr>\n",
              "    <tr>\n",
              "      <th>1</th>\n",
              "      <td>439</td>\n",
              "      <td>1</td>\n",
              "      <td>Harry Potter and the Half-Blood Prince (Harry ...</td>\n",
              "      <td>3</td>\n",
              "    </tr>\n",
              "    <tr>\n",
              "      <th>2</th>\n",
              "      <td>588</td>\n",
              "      <td>1</td>\n",
              "      <td>Harry Potter and the Half-Blood Prince (Harry ...</td>\n",
              "      <td>5</td>\n",
              "    </tr>\n",
              "    <tr>\n",
              "      <th>3</th>\n",
              "      <td>1169</td>\n",
              "      <td>1</td>\n",
              "      <td>Harry Potter and the Half-Blood Prince (Harry ...</td>\n",
              "      <td>4</td>\n",
              "    </tr>\n",
              "    <tr>\n",
              "      <th>4</th>\n",
              "      <td>1185</td>\n",
              "      <td>1</td>\n",
              "      <td>Harry Potter and the Half-Blood Prince (Harry ...</td>\n",
              "      <td>4</td>\n",
              "    </tr>\n",
              "  </tbody>\n",
              "</table>\n",
              "</div>"
            ],
            "text/plain": [
              "   user_id  book_id                                              title  rating\n",
              "0      314        1  Harry Potter and the Half-Blood Prince (Harry ...       5\n",
              "1      439        1  Harry Potter and the Half-Blood Prince (Harry ...       3\n",
              "2      588        1  Harry Potter and the Half-Blood Prince (Harry ...       5\n",
              "3     1169        1  Harry Potter and the Half-Blood Prince (Harry ...       4\n",
              "4     1185        1  Harry Potter and the Half-Blood Prince (Harry ...       4"
            ]
          },
          "metadata": {
            "tags": []
          },
          "execution_count": 6
        }
      ]
    },
    {
      "cell_type": "code",
      "metadata": {
        "id": "grwlswHQrBEg",
        "outputId": "c5ea895b-a9c6-4699-acea-6a38ec435432",
        "colab": {
          "base_uri": "https://localhost:8080/"
        }
      },
      "source": [
        "print (f'Number of ratings in dataset: {book_ratings.shape[0]}')"
      ],
      "execution_count": 7,
      "outputs": [
        {
          "output_type": "stream",
          "text": [
            "Number of ratings in dataset: 79701\n"
          ],
          "name": "stdout"
        }
      ]
    },
    {
      "cell_type": "markdown",
      "metadata": {
        "id": "1FEzJTKvrBEi"
      },
      "source": [
        "Let's look at a distribution of the ratings given by users. Here we see that readers generally are on the kinder end of the rating spectrum, with a far higher proportion of positive reviews (> 3) being given over negative ones (< 3):"
      ]
    },
    {
      "cell_type": "code",
      "metadata": {
        "id": "cMDQ9DPDrBEj",
        "outputId": "abafc428-d0de-41e4-fef9-ad3f4ab675b2",
        "colab": {
          "base_uri": "https://localhost:8080/",
          "height": 400
        }
      },
      "source": [
        "with sns.axes_style('white'):\n",
        "    g = sns.factorplot(\"rating\", data=book_ratings, aspect=2.0,kind='count')\n",
        "    g.set_ylabels(\"Total number of ratings\")\n",
        "print (f'Average rating in dataset: {np.mean(book_ratings[\"rating\"])}')"
      ],
      "execution_count": 8,
      "outputs": [
        {
          "output_type": "stream",
          "text": [
            "Average rating in dataset: 3.8616453996813087\n"
          ],
          "name": "stdout"
        },
        {
          "output_type": "display_data",
          "data": {
            "image/png": "[encoded data removed]",
            "text/plain": [
              "<Figure size 720x360 with 1 Axes>"
            ]
          },
          "metadata": {
            "tags": []
          }
        }
      ]
    },
    {
      "cell_type": "markdown",
      "metadata": {
        "id": "E5DMNL_CrBEl"
      },
      "source": [
        "That's enough spelunking through our data, let's go ahead and actually make a recommendation system. \n",
        "\n",
        "First up is generating recommendations using Content-based filtering."
      ]
    },
    {
      "cell_type": "markdown",
      "metadata": {
        "id": "7Tsg1qKfrBEn"
      },
      "source": [
        "## Content-based Filtering "
      ]
    },
    {
      "cell_type": "markdown",
      "metadata": {
        "id": "eRl-Tak7rBEp"
      },
      "source": [
        "### How it works \n",
        "\n",
        "<br></br>\n",
        "\n",
        "<div align=\"center\" style=\"width: 800px; font-size: 80%; text-align: center; margin: 0 auto\">\n",
        "<img src=\"https://raw.githubusercontent.com/Explore-AI/Pictures/master/Content_filtering.jpg\"\n",
        "     alt=\"Content-based Filtering\"\n",
        "     style=\"float: center; padding-bottom=0.5em\"\n",
        "     width=800px/>\n",
        "A depiction of the decision process used to recommend items within content-based filtering algorithms.  \n",
        "</div"
      ]
    },
    {
      "cell_type": "markdown",
      "metadata": {
        "id": "HG1arno4rBEq"
      },
      "source": [
        "In Content-based Filtering, we seek to make recommendations based on **how similar the properties or features of an item are to other items**. \n",
        "\n",
        "Let's use the image above to help us see how this works. Mpho is an avid reader who has just finished the novel \"The Golden Compass\". Besides the written contents inside this book (item), it has certain attributes or properties which further describe it - such as the author (\"Philip Pullman\"), genre (\"fantasy\"), or target audience (\"young adult\"). These properties are not unique to this novel, as other books also have authors, genres, target audiences, etc. As such, we can compare the properties of different books with the assumption that books which have properties in common (such as author or genre) are similar to one another. We can further **assume that individuals like similar items**. For our example, this means that Mpho, if using content-based filtering to recommend her next book, would have a book such as \"Harry Potter and the Philosopher's Stone\" suggested to her over Anne Frank's \"The Diary of a Young Girl\", as the former novel is far more 'similar' to The Golden Compass.     \n",
        "\n",
        "So let's see how we would implement a system like this in real life."
      ]
    },
    {
      "cell_type": "markdown",
      "metadata": {
        "id": "zhyA_HmsrBEs"
      },
      "source": [
        "### Implementation \n",
        "\n",
        "Let's implement a simple content filtering-based recommendation algorithm.\n",
        "\n",
        "To start off, we need to gather the various properties of our items so that we can convert them into meaningful features. Following along from our example above, we're going to use the `tag_name` field for each book as a representation of properties such as genre, time-period, and target audience. We're also going to consider the `authors` field, as individuals often enjoy reading novels written by the same author. \n",
        "\n",
        "We start off by creating a new column in our `books` dataframe called `auth_tags`, which contains the above-motivated contents for each item. We additionally create two pandas series objects to help us translate between book titles and indexes of our dataframe.  "
      ]
    },
    {
      "cell_type": "code",
      "metadata": {
        "id": "HEc8H2M6rBEu"
      },
      "source": [
        "books['auth_tags'] = (pd.Series(books[['authors', 'tag_name']]\n",
        "                      .fillna('')\n",
        "                      .values.tolist()).str.join(' '))\n",
        "\n",
        "# Convienient indexes to map between book titles and indexes of \n",
        "# the books dataframe\n",
        "titles = books['title']\n",
        "indices = pd.Series(books.index, index=books['title'])"
      ],
      "execution_count": 10,
      "outputs": []
    },
    {
      "cell_type": "markdown",
      "metadata": {
        "id": "n02UGq_prBEx"
      },
      "source": [
        "We now need a mechanism to convert these textual features into a format which enables us to compute their relative similarities to one another.\n",
        "This will allow us to translate our string-based collection of tags and authors into numerical vectors (see [here](https://en.wikipedia.org/wiki/Tf%E2%80%93idf) for an overview of this process which is very similar to [count-based vectorization](https://youtu.be/W9VtEVBdgnQ))."
      ]
    },
    {
      "cell_type": "code",
      "metadata": {
        "id": "sVDrRK1HrBEz"
      },
      "source": [
        "tf = TfidfVectorizer(analyzer='word', ngram_range=(1,2),\n",
        "                     min_df=0, stop_words='english')\n",
        "\n",
        "# Produce a feature matrix, where each row corresponds to a book,\n",
        "# with TF-IDF features as columns \n",
        "tf_authTags_matrix = tf.fit_transform(books['auth_tags'])"
      ],
      "execution_count": 11,
      "outputs": []
    },
    {
      "cell_type": "markdown",
      "metadata": {
        "id": "UyJt3129rBE0"
      },
      "source": [
        "We now can compute the similarity between each vector within our matrix. This is done by making use of the `cosine_similarity` function provided to us by `sklearn`."
      ]
    },
    {
      "cell_type": "code",
      "metadata": {
        "id": "z9Zn8a-FrBE1",
        "outputId": "9649d530-dec5-481f-fc9d-2b366dcb7f27",
        "colab": {
          "base_uri": "https://localhost:8080/"
        }
      },
      "source": [
        "cosine_sim_authTags = cosine_similarity(tf_authTags_matrix, \n",
        "                                        tf_authTags_matrix)\n",
        "print (cosine_sim_authTags.shape)"
      ],
      "execution_count": 12,
      "outputs": [
        {
          "output_type": "stream",
          "text": [
            "(10000, 10000)\n"
          ],
          "name": "stdout"
        }
      ]
    },
    {
      "cell_type": "code",
      "metadata": {
        "id": "I-snQ9IhrBE3",
        "outputId": "281b9067-4a29-4783-b5b2-bddd3697563f",
        "colab": {
          "base_uri": "https://localhost:8080/"
        }
      },
      "source": [
        "cosine_sim_authTags[:5]"
      ],
      "execution_count": 13,
      "outputs": [
        {
          "output_type": "execute_result",
          "data": {
            "text/plain": [
              "array([[1.        , 0.21246314, 0.25620534, ..., 0.04730311, 0.07394757,\n",
              "        0.01578043],\n",
              "       [0.21246314, 1.        , 0.20308655, ..., 0.04934816, 0.06629237,\n",
              "        0.02173749],\n",
              "       [0.25620534, 0.20308655, 1.        , ..., 0.03131751, 0.03967015,\n",
              "        0.0137797 ],\n",
              "       [0.11415006, 0.16092333, 0.10326477, ..., 0.06834212, 0.07096014,\n",
              "        0.04973093],\n",
              "       [0.11438683, 0.14651929, 0.1160679 , ..., 0.06632025, 0.08923058,\n",
              "        0.03776143]])"
            ]
          },
          "metadata": {
            "tags": []
          },
          "execution_count": 13
        }
      ]
    },
    {
      "cell_type": "markdown",
      "metadata": {
        "id": "mAyWFlZvrBE5"
      },
      "source": [
        "The resulting structure is a $10000 \\times 10000$ dense similarity matrix $S^I$, where the value of the entry in the $i^{th}$ row and $j^{th}$ column, $S^I_{i,j}$, corresponds to the similarity of books $i$ and $j$ within our dataset.\n",
        "\n",
        "Using this notation, if $i$ and $j$ are the same number (i.e. all the diagonal entries in $S^I$), then the similarity value is equal to 1 (an item is completely similar to itself).  "
      ]
    },
    {
      "cell_type": "markdown",
      "metadata": {
        "id": "YhcuN46rrBE6"
      },
      "source": [
        "#### Top-N Recommendations\n",
        "\n",
        "With our content similarity matrix computed, we're now ready to make some recommendations! Let's begin by generating a top-N list of books similar to one which we prompt the system with.    \n",
        "\n",
        "Following along from our earlier algorithmic explanation, we do this by: \n",
        "\n",
        "  1. Select an initial item (book) to generate recommendations from. \n",
        "  2. Extract all the similarity values between the initial item and each other item in the similarity matrix.\n",
        "  3. Sort the resulting values in descending order. \n",
        "  4. Select the top N similarity values, and return the corresponding item details to the user. This is now our simple top-N list.  \n",
        "  \n",
        "We implement this algorithmic process in the function below:"
      ]
    },
    {
      "cell_type": "code",
      "metadata": {
        "id": "dAfTfzDRrBE7"
      },
      "source": [
        "def content_generate_top_N_recommendations(book_title, N=10):\n",
        "    # Convert the string book title to a numeric index for our \n",
        "    # similarity matrix\n",
        "    b_idx = indices[book_title]\n",
        "    # Extract all similarity values computed with the reference book title\n",
        "    sim_scores = list(enumerate(cosine_sim_authTags[b_idx]))\n",
        "    # Sort the values, keeping a copy of the original index of each value\n",
        "    sim_scores = sorted(sim_scores, key=lambda x: x[1], reverse=True)\n",
        "    # Select the top-N values for recommendation\n",
        "    sim_scores = sim_scores[1:N]\n",
        "    # Collect indexes \n",
        "    book_indices = [i[0] for i in sim_scores]\n",
        "    # Convert the indexes back into titles \n",
        "    return titles.iloc[book_indices]"
      ],
      "execution_count": 14,
      "outputs": []
    },
    {
      "cell_type": "markdown",
      "metadata": {
        "id": "9tC4byr6rBE8"
      },
      "source": [
        "With our function defined, let's test our simple content-based recommender on some sample book titles:"
      ]
    },
    {
      "cell_type": "code",
      "metadata": {
        "id": "rIkhkelUrBE9",
        "outputId": "6c7a9e7d-ec36-48c4-aecd-9600c661943a",
        "colab": {
          "base_uri": "https://localhost:8080/"
        }
      },
      "source": [
        "content_generate_top_N_recommendations(\"The Hobbit\", N=10)"
      ],
      "execution_count": 15,
      "outputs": [
        {
          "output_type": "execute_result",
          "data": {
            "text/plain": [
              "188     The Lord of the Rings (The Lord of the Rings, ...\n",
              "154            The Two Towers (The Lord of the Rings, #2)\n",
              "160     The Return of the King (The Lord of the Rings,...\n",
              "18      The Fellowship of the Ring (The Lord of the Ri...\n",
              "610              The Silmarillion (Middle-Earth Universe)\n",
              "4975        Unfinished Tales of NÃºmenor and Middle-Earth\n",
              "2308                               The Children of HÃºrin\n",
              "963     J.R.R. Tolkien 4-Book Boxed Set: The Hobbit an...\n",
              "465                             The Hobbit: Graphic Novel\n",
              "Name: title, dtype: object"
            ]
          },
          "metadata": {
            "tags": []
          },
          "execution_count": 15
        }
      ]
    },
    {
      "cell_type": "code",
      "metadata": {
        "id": "eJHRWUrYrBE_",
        "outputId": "611d6d84-485d-4384-ac56-5f53c0be3c3e",
        "colab": {
          "base_uri": "https://localhost:8080/"
        }
      },
      "source": [
        "content_generate_top_N_recommendations(\"Romeo and Juliet\", N=10)"
      ],
      "execution_count": 16,
      "outputs": [
        {
          "output_type": "execute_result",
          "data": {
            "text/plain": [
              "352                      Othello\n",
              "769                Julius Caesar\n",
              "124                       Hamlet\n",
              "153                      Macbeth\n",
              "247    A Midsummer Night's Dream\n",
              "838       The Merchant of Venice\n",
              "854                Twelfth Night\n",
              "529       Much Ado About Nothing\n",
              "713                    King Lear\n",
              "Name: title, dtype: object"
            ]
          },
          "metadata": {
            "tags": []
          },
          "execution_count": 16
        }
      ]
    },
    {
      "cell_type": "code",
      "metadata": {
        "id": "rLweE1__rBFB",
        "outputId": "d5aa339d-430e-4c62-e4df-b6f5b27b9339",
        "colab": {
          "base_uri": "https://localhost:8080/"
        }
      },
      "source": [
        "content_generate_top_N_recommendations(\"The Diary of a Young Girl\", N=10)"
      ],
      "execution_count": 17,
      "outputs": [
        {
          "output_type": "execute_result",
          "data": {
            "text/plain": [
              "86                           Night (The Night Trilogy #1)\n",
              "178                    Angela's Ashes (Frank McCourt, #1)\n",
              "799                                  The Story of My Life\n",
              "1814    Anne Frank Remembered: The Story of the Woman ...\n",
              "512     The Hiding Place: The Triumphant True Story of...\n",
              "6546                        I Have Lived a Thousand Years\n",
              "8027             Anne Frank's Tales from the Secret Annex\n",
              "89                                          The Outsiders\n",
              "603                                     Girl, Interrupted\n",
              "Name: title, dtype: object"
            ]
          },
          "metadata": {
            "tags": []
          },
          "execution_count": 17
        }
      ]
    },
    {
      "cell_type": "markdown",
      "metadata": {
        "id": "X9g_gMXSrBFD"
      },
      "source": [
        "Having seen the results of these top-N lists, a couple of observations can be made. \n",
        "\n",
        "- First, our recommendations seem to be strongly centered around the author of the reference book. For example,  other works by Tolkien and Shakespeare are highly recommended when using reference searches for \"The Hobbit\" and \"Romeo and Juliet\" respectively. This could be a natural result of the fact that an author's name is far less common in the dataset than other textual features such as genre. As such, books which share an author will be regarded as being far more similar.  \n",
        "\n",
        "\n",
        " - Second, in cases where the reference author has not written multiple book titles, such as Anne Frank (The Diary of a Young Girl), the recommendations produced are more varied and cover multiple titles in the same or similar genres. \n",
        "\n",
        " \n",
        "Based on these observations, we can ask if in fact the recommendations for \"The Hobbit\" and \"Romeo and Juliet\" are actually any good? After all, a reader who knows of Tolkien and Shakespeare will often already know of other books these authors have written as well. This is where some of the subjective metrics introduced earlier (such as diversity), can be used to penalize these recommendations and help discover better ones. \n",
        "\n",
        "---\n",
        "#### Content filtering: Student Exercise\n",
        "\n",
        "Seeing that we were able to produce more varied recommendations when the author didn't write multiple titles, try to alter the above code cells to calculate similarity only using the `tag_name` field.\n",
        "\n",
        "How does this alteration affect the recommendations produced?"
      ]
    },
    {
      "cell_type": "markdown",
      "metadata": {
        "id": "jcyu9nFwrBFE"
      },
      "source": [
        "#### Rating Prediction\n",
        "\n",
        "As motivated previously, in some cases we may wish to directly calculate what rating a user _would_ give a book that they haven't read yet. \n",
        "\n",
        "We can modify our content-based filtering algorithm to do this in the following manner: \n",
        "\n",
        "   1. Select a reference user from the database and a reference item (book) they have _not_ rated. \n",
        "   2. For the user, gather the similarity values between the reference item and each item the user _has_ rated. \n",
        "   3. Sort the gathered similarity values in descending order. \n",
        "   4. Select the $k$ highest similarity values which are above a given threshold value, creating a collection $K$. \n",
        "   5. Compute a weighted average rating from these values, which is the sum of the similarity values of each item multiplied by its assigned user-rating, divided by the sum of the similarity values. This can be expressed in formula as:\n",
        "   \n",
        "   $$ \\hat{R}_{ju} = \\frac{\\sum_{i \\in K} s_{ij} \\times r_{iu}}{\\sum_{i \\in K} s_{ij}}   $$\n",
        "   \n",
        "   where $\\hat{R}_{ju}$ is the weighted average computed for the reference item $j$ and reference user $u$, $K$ is the collection of items, $s_{ij}$ is the similarity computed between items $i$ and $j$, and $r_{iu}$ is the known rating user $u$ has given item $i$.\n",
        "   6. We return the weighted average $\\hat{R}_{ju}$ as the prediction for our reference item.\n",
        "   \n",
        "   \n",
        "We implement this algorithmic process in the function below:"
      ]
    },
    {
      "cell_type": "code",
      "metadata": {
        "id": "ZEnyMC9PrBFF"
      },
      "source": [
        "def content_generate_rating_estimate(book_title, user, rating_data, k=20, threshold=0.0):\n",
        "    # Convert the book title to a numeric index for our \n",
        "    # similarity matrix\n",
        "    b_idx = indices[book_title]\n",
        "    neighbors = [] # <-- Stores our collection of similarity values \n",
        "     \n",
        "    # Gather the similarity ratings between each book the user has rated\n",
        "    # and the reference book \n",
        "    for index, row in rating_data[rating_data['user_id']==user].iterrows():\n",
        "        sim = cosine_sim_authTags[b_idx-1, indices[row['title']]-1]\n",
        "        neighbors.append((sim, row['rating']))\n",
        "    # Select the top-N values from our collection\n",
        "    k_neighbors = heapq.nlargest(k, neighbors, key=lambda t: t[0])\n",
        "\n",
        "    # Compute the weighted average using similarity scores and \n",
        "    # user item ratings. \n",
        "    simTotal, weightedSum = 0, 0\n",
        "    for (simScore, rating) in k_neighbors:\n",
        "        # Ensure that similarity ratings are above a given threshold\n",
        "        if (simScore > threshold):\n",
        "            simTotal += simScore\n",
        "            weightedSum += simScore * rating\n",
        "    try:\n",
        "        predictedRating = weightedSum / simTotal\n",
        "    except ZeroDivisionError:\n",
        "        # Cold-start problem - No ratings given by user. \n",
        "        # We use the average rating for the reference item as a proxy in this case \n",
        "        predictedRating = np.mean(rating_data[rating_data['title']==book_title]['rating'])\n",
        "    return predictedRating"
      ],
      "execution_count": 18,
      "outputs": []
    },
    {
      "cell_type": "markdown",
      "metadata": {
        "id": "KOzTeJhcrBFH"
      },
      "source": [
        "With our algorithm defined, let's quickly test it out to see some results. \n",
        "\n",
        "To help us get a sense of the relevance and accuracy of these ratings, we select a lucky user (number 314) and consider their historical data: "
      ]
    },
    {
      "cell_type": "code",
      "metadata": {
        "id": "tGMqraZerBFJ",
        "outputId": "893892fb-5a03-45d8-957a-35e2c761e455",
        "colab": {
          "base_uri": "https://localhost:8080/",
          "height": 266
        }
      },
      "source": [
        "# Subset of ratings from user 314\n",
        "book_ratings[book_ratings['user_id'] == 314][3:10]"
      ],
      "execution_count": 19,
      "outputs": [
        {
          "output_type": "execute_result",
          "data": {
            "text/html": [
              "<div>\n",
              "<style scoped>\n",
              "    .dataframe tbody tr th:only-of-type {\n",
              "        vertical-align: middle;\n",
              "    }\n",
              "\n",
              "    .dataframe tbody tr th {\n",
              "        vertical-align: top;\n",
              "    }\n",
              "\n",
              "    .dataframe thead th {\n",
              "        text-align: right;\n",
              "    }\n",
              "</style>\n",
              "<table border=\"1\" class=\"dataframe\">\n",
              "  <thead>\n",
              "    <tr style=\"text-align: right;\">\n",
              "      <th></th>\n",
              "      <th>user_id</th>\n",
              "      <th>book_id</th>\n",
              "      <th>title</th>\n",
              "      <th>rating</th>\n",
              "    </tr>\n",
              "  </thead>\n",
              "  <tbody>\n",
              "    <tr>\n",
              "      <th>401</th>\n",
              "      <td>314</td>\n",
              "      <td>6</td>\n",
              "      <td>Harry Potter and the Goblet of Fire (Harry Pot...</td>\n",
              "      <td>5</td>\n",
              "    </tr>\n",
              "    <tr>\n",
              "      <th>1500</th>\n",
              "      <td>314</td>\n",
              "      <td>29</td>\n",
              "      <td>The Mother Tongue: English and How It Got That...</td>\n",
              "      <td>3</td>\n",
              "    </tr>\n",
              "    <tr>\n",
              "      <th>1600</th>\n",
              "      <td>314</td>\n",
              "      <td>30</td>\n",
              "      <td>J.R.R. Tolkien 4-Book Boxed Set: The Hobbit an...</td>\n",
              "      <td>4</td>\n",
              "    </tr>\n",
              "    <tr>\n",
              "      <th>1900</th>\n",
              "      <td>314</td>\n",
              "      <td>36</td>\n",
              "      <td>The Lord of the Rings: Weapons and Warfare</td>\n",
              "      <td>4</td>\n",
              "    </tr>\n",
              "    <tr>\n",
              "      <th>2300</th>\n",
              "      <td>314</td>\n",
              "      <td>98</td>\n",
              "      <td>What to Expect the First Year (What to Expect)</td>\n",
              "      <td>3</td>\n",
              "    </tr>\n",
              "    <tr>\n",
              "      <th>2400</th>\n",
              "      <td>314</td>\n",
              "      <td>105</td>\n",
              "      <td>Chapterhouse: Dune (Dune Chronicles #6)</td>\n",
              "      <td>3</td>\n",
              "    </tr>\n",
              "    <tr>\n",
              "      <th>2501</th>\n",
              "      <td>314</td>\n",
              "      <td>106</td>\n",
              "      <td>Dune Messiah (Dune Chronicles #2)</td>\n",
              "      <td>4</td>\n",
              "    </tr>\n",
              "  </tbody>\n",
              "</table>\n",
              "</div>"
            ],
            "text/plain": [
              "      user_id  ...  rating\n",
              "401       314  ...       5\n",
              "1500      314  ...       3\n",
              "1600      314  ...       4\n",
              "1900      314  ...       4\n",
              "2300      314  ...       3\n",
              "2400      314  ...       3\n",
              "2501      314  ...       4\n",
              "\n",
              "[7 rows x 4 columns]"
            ]
          },
          "metadata": {
            "tags": []
          },
          "execution_count": 19
        }
      ]
    },
    {
      "cell_type": "markdown",
      "metadata": {
        "id": "bxL_T61HrBFL"
      },
      "source": [
        "We first generate some ratings for books which user 314 has already rated:"
      ]
    },
    {
      "cell_type": "code",
      "metadata": {
        "id": "WTY-emrYrBFM",
        "outputId": "ff3c33f7-1aed-49b8-d681-c32dfdab7726",
        "colab": {
          "base_uri": "https://localhost:8080/"
        }
      },
      "source": [
        "title = \"The Lord of the Rings: Weapons and Warfare\"\n",
        "actual_rating = book_ratings[(book_ratings['user_id'] == 314) & (book_ratings['title'] == title)]['rating'].values[0]\n",
        "pred_rating = content_generate_rating_estimate(book_title=title, user=314, rating_data=book_ratings)\n",
        "print (f\"Title - {title}\")\n",
        "print (\"---\")\n",
        "print (f\"Actual rating: \\t\\t {actual_rating}\")\n",
        "print (f\"Predicted rating: \\t {pred_rating}\")"
      ],
      "execution_count": 20,
      "outputs": [
        {
          "output_type": "stream",
          "text": [
            "Title - The Lord of the Rings: Weapons and Warfare\n",
            "---\n",
            "Actual rating: \t\t 4\n",
            "Predicted rating: \t 3.82672277262443\n"
          ],
          "name": "stdout"
        }
      ]
    },
    {
      "cell_type": "code",
      "metadata": {
        "id": "942Bd0QSrBFP",
        "outputId": "e9fa9a4f-0f65-43b8-fb41-dfd2169f1496",
        "colab": {
          "base_uri": "https://localhost:8080/"
        }
      },
      "source": [
        "title = \"Survival in Auschwitz\"\n",
        "actual_rating = book_ratings[(book_ratings['user_id'] == 314) & (book_ratings['title'] == title)]['rating'].values[0]\n",
        "pred_rating = content_generate_rating_estimate(book_title=title, user=314, rating_data=book_ratings)\n",
        "print (f\"Title - {title}\")\n",
        "print (\"---\")\n",
        "print (f\"Actual rating: \\t\\t {actual_rating}\")\n",
        "print (f\"Predicted rating: \\t {pred_rating}\")"
      ],
      "execution_count": 21,
      "outputs": [
        {
          "output_type": "stream",
          "text": [
            "Title - Survival in Auschwitz\n",
            "---\n",
            "Actual rating: \t\t 2\n",
            "Predicted rating: \t 2.7984141604453825\n"
          ],
          "name": "stdout"
        }
      ]
    },
    {
      "cell_type": "markdown",
      "metadata": {
        "id": "bGFfhGWbrBFR"
      },
      "source": [
        "We do this again, but now for similar titles which have not been rated:  "
      ]
    },
    {
      "cell_type": "code",
      "metadata": {
        "id": "UzbcPuC1rBFT",
        "outputId": "9679cf42-b5db-4afa-bb94-f00f3301ac4e",
        "colab": {
          "base_uri": "https://localhost:8080/"
        }
      },
      "source": [
        "title = \"The Hobbit\"\n",
        "pred_rating = content_generate_rating_estimate(book_title=title, user=314, rating_data=book_ratings)\n",
        "print (f\"Title - {title}\")\n",
        "print (\"---\")\n",
        "print (f\"Actual rating: \\t\\t ?\")\n",
        "print (f\"Predicted rating: \\t {pred_rating}\")"
      ],
      "execution_count": 22,
      "outputs": [
        {
          "output_type": "stream",
          "text": [
            "Title - The Hobbit\n",
            "---\n",
            "Actual rating: \t\t ?\n",
            "Predicted rating: \t 3.5748388697863294\n"
          ],
          "name": "stdout"
        }
      ]
    },
    {
      "cell_type": "code",
      "metadata": {
        "id": "oZ8zAmKHrBFU",
        "outputId": "ef5da789-85fc-4c6f-e4cd-e7ab8e01485f",
        "colab": {
          "base_uri": "https://localhost:8080/"
        }
      },
      "source": [
        "title = \"Dune (Dune Chronicles #1)\"\n",
        "pred_rating = content_generate_rating_estimate(book_title=title, user=314, rating_data=book_ratings)\n",
        "print (f\"Title - {title}\")\n",
        "print (\"---\")\n",
        "print (f\"Actual rating: \\t\\t ?\")\n",
        "print (f\"Predicted rating: \\t {pred_rating}\")"
      ],
      "execution_count": 23,
      "outputs": [
        {
          "output_type": "stream",
          "text": [
            "Title - Dune (Dune Chronicles #1)\n",
            "---\n",
            "Actual rating: \t\t ?\n",
            "Predicted rating: \t 3.7612070634075323\n"
          ],
          "name": "stdout"
        }
      ]
    },
    {
      "cell_type": "markdown",
      "metadata": {
        "id": "SNamVn8OrBFV"
      },
      "source": [
        "Based on the above results, our content-based ratings seem to be pretty good - being out by than less 1 rating point per known prediction! While we can't make the same judgement for the predicted ratings of the unseen books, they are close to known book ratings which are similar in nature, which is a promising sign.\n",
        "\n",
        "That's enough of content based filtering. In the next part of this train, namely Introduction to Recommender systems: Part 2, we will be moving on to the second type of recommender system method: collaborative filtering. "
      ]
    },
    {
      "cell_type": "markdown",
      "metadata": {
        "id": "HBeDDt8crBFW"
      },
      "source": [
        "## Conclusion\n",
        "\n",
        "We covered alot of good ground in this train by identifying the building blocks of recommender systems; items (things) and users (people). We've learned how recommender algorithms fundamentally use similarity as a mechanism to compare these items and users, with item-item similarity being represented by the content-based filtering method. We went on to review the content-based filtering method both theoretically and  practically through code implementation. \n",
        "\n",
        "Next up we will be doing some deep diving into collaborative filtering. "
      ]
    },
    {
      "cell_type": "markdown",
      "metadata": {
        "id": "rN37K7W3rBFY"
      },
      "source": [
        "## Appendix\n",
        "Links to additional resources to help with the understanding of concepts presented in the train:\n",
        "\n",
        "- [Intro to Recommender Systems](https://www.youtube.com/watch?v=Eeg1DEeWUjA&feature=youtu.be)\n",
        "- [Advanced Recommender System Metrics](https://wiki.epfl.ch/edicpublic/documents/Candidacy%20exam/Evaluation.pdf)"
      ]
    }
  ]
}